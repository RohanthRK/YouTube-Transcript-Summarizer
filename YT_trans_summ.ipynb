{
  "nbformat": 4,
  "nbformat_minor": 0,
  "metadata": {
    "colab": {
      "name": "YT_trans_summ.ipynb",
      "provenance": [],
      "collapsed_sections": []
    },
    "kernelspec": {
      "name": "python3",
      "display_name": "Python 3"
    },
    "language_info": {
      "name": "python"
    }
  },
  "cells": [
    {
      "cell_type": "code",
      "source": [
        "pip install youtube-transcript-api"
      ],
      "metadata": {
        "colab": {
          "base_uri": "https://localhost:8080/"
        },
        "id": "edG2rjNM5xWG",
        "outputId": "7eb481c7-2f8d-46e1-a4d9-18ff2514bb10"
      },
      "execution_count": null,
      "outputs": [
        {
          "output_type": "stream",
          "name": "stdout",
          "text": [
            "Looking in indexes: https://pypi.org/simple, https://us-python.pkg.dev/colab-wheels/public/simple/\n",
            "Collecting youtube-transcript-api\n",
            "  Downloading youtube_transcript_api-0.4.4-py3-none-any.whl (22 kB)\n",
            "Requirement already satisfied: requests in /usr/local/lib/python3.7/dist-packages (from youtube-transcript-api) (2.23.0)\n",
            "Requirement already satisfied: certifi>=2017.4.17 in /usr/local/lib/python3.7/dist-packages (from requests->youtube-transcript-api) (2022.6.15)\n",
            "Requirement already satisfied: urllib3!=1.25.0,!=1.25.1,<1.26,>=1.21.1 in /usr/local/lib/python3.7/dist-packages (from requests->youtube-transcript-api) (1.24.3)\n",
            "Requirement already satisfied: chardet<4,>=3.0.2 in /usr/local/lib/python3.7/dist-packages (from requests->youtube-transcript-api) (3.0.4)\n",
            "Requirement already satisfied: idna<3,>=2.5 in /usr/local/lib/python3.7/dist-packages (from requests->youtube-transcript-api) (2.10)\n",
            "Installing collected packages: youtube-transcript-api\n",
            "Successfully installed youtube-transcript-api-0.4.4\n"
          ]
        }
      ]
    },
    {
      "cell_type": "code",
      "source": [
        "#input\n",
        "print(\"-->Welcome :)\")\n",
        "print(\"-->Please enter the URL of the YouTube video:\")\n",
        "temp_1=str(input())\n",
        "url=temp_1.split(\"watch?v=\")\n",
        "print(\"-->Enter the percentage of the summarization:\")\n",
        "temp_2=int(input())\n",
        "percentage=temp_2/100\n",
        "\n",
        "#extracting YT video transcripts\n",
        "from youtube_transcript_api import YouTubeTranscriptApi\n",
        "arr = YouTubeTranscriptApi.get_transcript(url[1])\n",
        "dummy=\"\"\n",
        "for i in range(0,len(arr)):\n",
        "  if arr[i][]\n",
        "  dummy=dummy+arr[i]['text']\n",
        "\n",
        "#Summarization of the transcripts\n",
        "\n",
        "import spacy\n",
        "from spacy.lang.en.stop_words import STOP_WORDS\n",
        "from string import punctuation\n",
        "from heapq import nlargest\n",
        "\n",
        "def summarize(text, per):\n",
        "    nlp = spacy.load('en_core_web_sm')    #to show the type of word(adjective,adverb,prep,etc.)\n",
        "    doc= nlp(text)\n",
        "    tokens=[token.text for token in doc]\n",
        "    word_frequencies={}   #frequency of each word is stored in Dic.\n",
        "    for word in doc:\n",
        "        if word.text.lower() not in list(STOP_WORDS):   #avoiding stop words['a','the','is','are'(stop words)]\n",
        "            if word.text.lower() not in punctuation:    #avoiding punctuations\n",
        "                if word.text not in word_frequencies.keys():    \n",
        "                    word_frequencies[word.text] = 1\n",
        "                else:\n",
        "                    word_frequencies[word.text] += 1\n",
        "                    \n",
        "    max_frequency=max(word_frequencies.values())    #taking max of the frequency\n",
        "    for word in word_frequencies.keys():\n",
        "        word_frequencies[word]=word_frequencies[word]/max_frequency   #considering frequency of all words based on max_frequncy word\n",
        "\n",
        "    sentence_tokens= [sent for sent in doc.sents]   #taking sentences\n",
        "    sentence_scores = {}\n",
        "    for sent in sentence_tokens:    #considering each sentence at once\n",
        "        for word in sent:\n",
        "            if word.text.lower() in word_frequencies.keys():    #considering only words in frequencies list\n",
        "                if sent not in sentence_scores.keys():\n",
        "                    sentence_scores[sent]=word_frequencies[word.text.lower()]     #taking non repated words\n",
        "                else:\n",
        "                    sentence_scores[sent]+=word_frequencies[word.text.lower()]    #increasing score of repeated sentences\n",
        "\n",
        "    select_length=int(len(sentence_tokens)*per)\n",
        "    summary=nlargest(select_length, sentence_scores,key=sentence_scores.get)\n",
        "    final_summary=[word.text for word in summary]\n",
        "    summary=''.join(final_summary)\n",
        "    return summary\n",
        "\n",
        "print(\"-->Summarized Transcripts:\")\n",
        "summarize(dummy,percentage)"
      ],
      "metadata": {
        "colab": {
          "base_uri": "https://localhost:8080/",
          "height": 643
        },
        "id": "aX3hGt2T6CX4",
        "outputId": "b833c276-af27-40da-a66f-8fb378192d8d"
      },
      "execution_count": null,
      "outputs": [
        {
          "output_type": "stream",
          "name": "stdout",
          "text": [
            "-->Welcome :)\n",
            "-->Please enter the URL of the YouTube video:\n",
            "https://www.youtube.com/watch?v=mrkAmmMakMg\n",
            "-->Enter the percentage of the summarization:\n",
            "50\n",
            "-->Summarized Transcripts:\n"
          ]
        },
        {
          "output_type": "execute_result",
          "data": {
            "text/plain": [
              "\"that unique look i thinkit's pretty sick now this phone isn'tout yet fyi it's coming around july 12thso definitely get subscribed to makesure you see the full review of theentire phone and everything about itwhen it does come out um but until thenwhat i am allowed to show you nowis the back of the phone so the ear oneearbuds that came from them last yearplayed off of this transparency themenot fully transparent but definitelywith some clear plastic bits that lookcool and then reveal some shieldinginside that's strategically placed andpainted to look sweetthat's kind of the look this phone alsohas going on too but the way that reallystands out is with these lights on theback so the phone has what i wouldbasically callthe ultimate notification led so thenotification led on the back of thephone has been a dying breed lately youdon't see them very much but when you dowhich is rareveryintentionallyto steal away a small amount of the mostloyal customers it's literally acustomer acquisition cost and maybe ifthe first run is successful enough thenthey can make a slightly more broadlyappealing slightly better phone overallthat sells more and if that one worksthen they can make an even more broadlyappealing phone that sells even more andthen even more broadly appealing andeven moreuntil you've made a very broadlyappealing phone that sells the most butthat feels like it abandoned youroriginal fan basesound familiar either way this phone isdefinitely super differentso if a startup were to comealong and make another average phone itwould probably fit in pretty nice butthere wouldn't really be any reason toswitch to it to to buy that oneso what nothing has done is they've madea pretty unique looking phone that alsohappens to have a bunch of cool featuressurroundingand then nothing has built anentire user interface into the settingsthat let you control exactly how thelights work when they turn on and whatthey light up for so the most impressivepart to me for sure is there are 10built-in ringtones and you might not useringtones that much but these are coolthey each have a light pattern thatlights up to perfectly match the ringtone and so then you can pairringtones with certain contacts so whenyou see a certain light pattern evenwhen the phone is muted you know who'scalling you just by looking at iti guess the answer really isit's a real strategy like look at thesethree phones there's a naruto phonea league of legends phone a dragon ballz phone all super unique deepcollaborations with custom packagingcustom designs wallpapers icon packs thewhole thingso no matter whathappens with the rest of the phonemission accomplished there i guess thequestion we're left with at this pointisdoes this work like is thisuh different enough looking to actuallywork are people going to buy it are theygoing to want to actually switch to thisslightly different looking phone overthis safe betanddopethe entire glyph interface can light upat once as a fill light for the camerasthese are pretty bright leds normallysome lights on the back of a phone iwouldn't say make much of a differencebut for some sort of close-up subjectsor in darker rooms this can actuallymake a difference versus the normalflash that's also on the back of thephone plus there is a blinking red lighton the back here which is a recordingindicator for when you're recordingvideos[Music]hey what's up mkbhd here and yes thisis the nothing phone the first phonefrom the startup that gave us thenothing year one earbuds in 2021 a bigstep into establishing their ownecosystem that they're building and itlooksfamiliar but also very different so welive in an age right now where so manyof the top phones the most popularphones are designed to appeal to themasses that's the point of them and sothey all end up kind of lookingbasically the sameall very similar you know big screen upon the fronta couple cameras on the back a couplepale colors nothing too crazy just aglass slabbut i think itlooks pretty sick honestly it looks likea movie prop in my hand in certainenvironments plus i'm sure there's aclear case coming from nothing i thinknow that there's like renders floatingout there the most common descriptioni've seen of the look of this phone islikebe enough to actually get peopleto buy the phone or whether it impressespeople who would usually put a case ontheir phone anyway that will have towait until launch to seeso the glow really cleanlyappears as just a solid continuous lightbar so they call it the glyph interfaceand it has a bunch of real functionalityso first of all it does light up andpulse for your notifications it willalso light up and glow when yourwireless charging or reverse wirelesscharging which is neat but there's alsoa feature where when you plug into usbcto charge it lights up that bottom barand then acts as a progress barindicator and of course you wouldn'twant that to stay lit up all the time soit turns off\""
            ],
            "application/vnd.google.colaboratory.intrinsic+json": {
              "type": "string"
            }
          },
          "metadata": {},
          "execution_count": 7
        }
      ]
    }
  ]
}